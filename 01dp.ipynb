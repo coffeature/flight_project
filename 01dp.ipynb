{
 "cells": [
  {
   "cell_type": "markdown",
   "id": "5d36d302-49eb-4eaa-a7af-1b9f26fceaf5",
   "metadata": {},
   "source": [
    "## **Challenge:** <i><font color=\"red\">Challenge description</font></i>"
   ]
  },
  {
   "cell_type": "markdown",
   "id": "1099d3cd-f6c5-4c8f-a95c-65a43bd89cc9",
   "metadata": {
    "jp-MarkdownHeadingCollapsed": true,
    "tags": []
   },
   "source": [
    "### Content:\n",
    "* Dataset itroduction\n",
    "* Assumptions\n",
    "* Questions\n",
    "* Exploratory Data Analysis\n",
    "* Dealing with class imbalance\n",
    "* Training and testing of various models performance\n",
    "* Comclusions\n",
    "\n"
   ]
  },
  {
   "cell_type": "markdown",
   "id": "6f63ea4b-11ef-4e24-9496-b28aa0895dd1",
   "metadata": {
    "tags": []
   },
   "source": [
    "____________________\n",
    "## Dataset introduction\n",
    "\n",
    "The data is originally from a [url description](https://www.kaggle.com/mlg-ulb/creditcardfraud).\n",
    "Downloaded from [here](https://drive.google.com/file/d/1FCQY1SiWIjh_ME6Wtb3FG8Y1sKoRwAUc/view?usp=sharing). \n",
    "\n",
    "<i><font color=\"red\"></font></i><i><font color=\"red\">Introduction</font></i>"
   ]
  },
  {
   "cell_type": "markdown",
   "id": "2d98f135-d4d7-4764-bcc9-87427f5acc34",
   "metadata": {
    "tags": []
   },
   "source": [
    "____________________\n",
    "## Assumptions"
   ]
  },
  {
   "cell_type": "markdown",
   "id": "3de66633-19cd-47cf-a6b8-04dfb9a893e3",
   "metadata": {},
   "source": [
    "Asssumptions"
   ]
  },
  {
   "cell_type": "markdown",
   "id": "10c68394-a40b-4dd9-b22b-0490fc6da916",
   "metadata": {},
   "source": [
    "____________________\n",
    "## Questions"
   ]
  },
  {
   "cell_type": "markdown",
   "id": "f0c14b49-a84b-4059-91b8-998fdf0f91ed",
   "metadata": {
    "tags": []
   },
   "source": [
    "Questions"
   ]
  },
  {
   "cell_type": "markdown",
   "id": "167c6828-6d29-45a7-b0fa-a90106db7ba0",
   "metadata": {},
   "source": [
    "## Exploratory Data Analysis"
   ]
  },
  {
   "cell_type": "code",
   "execution_count": 32,
   "id": "aef26bcb-e666-4c07-9ada-d474517c2fae",
   "metadata": {},
   "outputs": [],
   "source": [
    "#Importing required Libraries\n",
    "import pandas as pd\n",
    "import seaborn as sns\n",
    "import matplotlib.pyplot as plt"
   ]
  },
  {
   "cell_type": "markdown",
   "id": "83d1f608-0c16-4081-a5f3-ee8b0b190ea9",
   "metadata": {},
   "source": [
    "In this challenge, we will try to predict credit card fraud.\n",
    "\n",
    "Download the data from [here](https://drive.google.com/file/d/1FCQY1SiWIjh_ME6Wtb3FG8Y1sKoRwAUc/view?usp=sharing). The data is originally from a [Kaggle Competition](https://www.kaggle.com/mlg-ulb/creditcardfraud)."
   ]
  }
 ],
 "metadata": {
  "kernelspec": {
   "display_name": "Python 3",
   "language": "python",
   "name": "python3"
  },
  "language_info": {
   "codemirror_mode": {
    "name": "ipython",
    "version": 3
   },
   "file_extension": ".py",
   "mimetype": "text/x-python",
   "name": "python",
   "nbconvert_exporter": "python",
   "pygments_lexer": "ipython3",
   "version": "3.8.8"
  }
 },
 "nbformat": 4,
 "nbformat_minor": 5
}
