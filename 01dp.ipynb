{
 "cells": [
  {
   "cell_type": "markdown",
   "id": "5d36d302-49eb-4eaa-a7af-1b9f26fceaf5",
   "metadata": {},
   "source": [
    "## **Challenge:** <i><font color=\"red\">Challenge description</font></i>"
   ]
  },
  {
   "cell_type": "markdown",
   "id": "1099d3cd-f6c5-4c8f-a95c-65a43bd89cc9",
   "metadata": {
    "jp-MarkdownHeadingCollapsed": true,
    "tags": []
   },
   "source": [
    "### Content:\n",
    "* Dataset itroduction\n",
    "* Assumptions\n",
    "* Questions\n",
    "* Exploratory Data Analysis\n",
    "* Dealing with class imbalance\n",
    "* Training and testing of various models performance\n",
    "* Comclusions\n",
    "\n"
   ]
  },
  {
   "cell_type": "markdown",
   "id": "6f63ea4b-11ef-4e24-9496-b28aa0895dd1",
   "metadata": {
    "tags": []
   },
   "source": [
    "____________________\n",
    "## Dataset introduction\n",
    "\n",
    "The data is originally from a [url description](https://www.kaggle.com/mlg-ulb/creditcardfraud).\n",
    "Downloaded from [here](https://drive.google.com/file/d/1FCQY1SiWIjh_ME6Wtb3FG8Y1sKoRwAUc/view?usp=sharing). \n",
    "\n",
    "<i><font color=\"red\"></font></i><i><font color=\"red\">Introduction</font></i>"
   ]
  },
  {
   "cell_type": "markdown",
   "id": "2d98f135-d4d7-4764-bcc9-87427f5acc34",
   "metadata": {
    "tags": []
   },
   "source": [
    "____________________\n",
    "## Assumptions"
   ]
  },
  {
   "cell_type": "markdown",
   "id": "3de66633-19cd-47cf-a6b8-04dfb9a893e3",
   "metadata": {},
   "source": [
    "Asssumptions"
   ]
  },
  {
   "cell_type": "markdown",
   "id": "10c68394-a40b-4dd9-b22b-0490fc6da916",
   "metadata": {},
   "source": [
    "____________________\n",
    "## Questions"
   ]
  },
  {
   "cell_type": "markdown",
   "id": "f0c14b49-a84b-4059-91b8-998fdf0f91ed",
   "metadata": {
    "tags": []
   },
   "source": [
    "Questions"
   ]
  },
  {
   "cell_type": "markdown",
   "id": "167c6828-6d29-45a7-b0fa-a90106db7ba0",
   "metadata": {},
   "source": [
    "## Exploratory Data Analysis"
   ]
  },
  {
   "cell_type": "code",
   "execution_count": 32,
   "id": "aef26bcb-e666-4c07-9ada-d474517c2fae",
   "metadata": {},
   "outputs": [],
   "source": [
    "#Importing required Libraries\n",
    "import pandas as pd\n",
    "import seaborn as sns\n",
    "import matplotlib.pyplot as plt"
   ]
  },
  {
   "cell_type": "markdown",
   "id": "ecd3317e-7002-45f4-bbaa-a0f097739c37",
   "metadata": {},
   "source": [
    "In this challenge, we will try to predict credit card fraud.\n",
    "\n",
    "Download the data from [here](https://drive.google.com/file/d/1FCQY1SiWIjh_ME6Wtb3FG8Y1sKoRwAUc/view?usp=sharing). The data is originally from a [Kaggle Competition](https://www.kaggle.com/mlg-ulb/creditcardfraud)."
   ]
  },
  {
   "cell_type": "raw",
   "id": "b85cdc05-022b-447c-9576-e09aa1b65cb4",
   "metadata": {},
   "source": [
    "Connect to the database using credentials below:\n",
    "\n",
    "host: mid-term-project.ca2jkepgjpne.us-east-2.rds.amazonaws.com\n",
    "port: 5432\n",
    "user: lhl_student\n",
    "pwd: lhl_student\n",
    "database: mid_term_project\n",
    "\n",
    "The database contains all tables we need for the mid-term project."
   ]
  },
  {
   "cell_type": "code",
   "execution_count": 8,
   "id": "6fb78fe4-31ab-420a-af4e-46fda8614b6a",
   "metadata": {},
   "outputs": [
    {
     "name": "stdout",
     "output_type": "stream",
     "text": [
      "PostgreSQL server information\n",
      "{'user': 'lhl_student', 'channel_binding': 'prefer', 'dbname': 'mid_term_project', 'host': 'mid-term-project.ca2jkepgjpne.us-east-2.rds.amazonaws.com', 'port': '5432', 'tty': '', 'options': '', 'sslmode': 'prefer', 'sslcompression': '0', 'ssl_min_protocol_version': 'TLSv1.2', 'gssencmode': 'prefer', 'krbsrvname': 'postgres', 'target_session_attrs': 'any'} \n",
      "\n",
      "PostgreSQL connection is closed\n"
     ]
    }
   ],
   "source": [
    "import psycopg2\n",
    "from psycopg2 import Error\n",
    "\n",
    "try:\n",
    "    # Connect to an existing database\n",
    "    connection = psycopg2.connect(user=\"lhl_student\",\n",
    "                                  password=\"lhl_student\",\n",
    "                                  host=\"mid-term-project.ca2jkepgjpne.us-east-2.rds.amazonaws.com\",\n",
    "                                  port=\"5432\",\n",
    "                                  database=\"mid_term_project\")\n",
    "\n",
    "    # Create a cursor to perform database operations\n",
    "    cursor = connection.cursor()\n",
    "    # Print PostgreSQL details\n",
    "    print(\"PostgreSQL server information\")\n",
    "    print(connection.get_dsn_parameters(), \"\\n\")\n",
    "    # Executing a SQL query\n",
    "    cursor.execute(\"SELECT * from flights limit 100\")\n",
    "    #list_tables = cursor.fetchall()\n",
    "    #print(list_tables)\n",
    "    \n",
    "    # Fetch result\n",
    "    #list_tables = cursor.fetchall()\n",
    "    #print(list_tables)\n",
    "    #record = cursor.fetchnone()\n",
    "    #print(\"You are connected to - \", record, \"\\n\")\n",
    "\n",
    "except (Exception, Error) as error:\n",
    "    print(\"Error while connecting to PostgreSQL\", error)\n",
    "finally:\n",
    "    if (connection):\n",
    "        cursor.close()\n",
    "        connection.close()\n",
    "        print(\"PostgreSQL connection is closed\")"
   ]
  },
  {
   "cell_type": "code",
   "execution_count": 11,
   "id": "3c85a052-f444-4d4c-b7bf-965cb101cc0d",
   "metadata": {},
   "outputs": [],
   "source": [
    "def postgresql_to_dataframe(conn, select_query, column_names):\n",
    "    \"\"\"\n",
    "    Tranform a SELECT query into a pandas dataframe\n",
    "    \"\"\"\n",
    "    cursor = conn.cursor()\n",
    "    try:\n",
    "        cursor.execute(select_query)\n",
    "    except (Exception, psycopg2.DatabaseError) as error:\n",
    "        print(\"Error: %s\" % error)\n",
    "        cursor.close()\n",
    "        return 1\n",
    "    \n",
    "    # Naturally we get a list of tupples\n",
    "    tupples = cursor.fetchall()\n",
    "    cursor.close()\n",
    "    \n",
    "    # We just need to turn it into a pandas dataframe\n",
    "    df = pd.DataFrame(tupples, columns=column_names)\n",
    "    return df\n",
    "    df.head()"
   ]
  },
  {
   "cell_type": "code",
   "execution_count": null,
   "id": "3c650b80-bd40-42e2-a45a-4209f76f59b6",
   "metadata": {},
   "outputs": [],
   "source": []
  }
 ],
 "metadata": {
  "kernelspec": {
   "display_name": "Python 3",
   "language": "python",
   "name": "python3"
  },
  "language_info": {
   "codemirror_mode": {
    "name": "ipython",
    "version": 3
   },
   "file_extension": ".py",
   "mimetype": "text/x-python",
   "name": "python",
   "nbconvert_exporter": "python",
   "pygments_lexer": "ipython3",
   "version": "3.8.8"
  }
 },
 "nbformat": 4,
 "nbformat_minor": 5
}
